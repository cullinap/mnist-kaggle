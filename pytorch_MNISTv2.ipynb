{
 "cells": [
  {
   "cell_type": "code",
   "execution_count": 4,
   "metadata": {},
   "outputs": [],
   "source": [
    "import pandas as pd\n",
    "import numpy as np\n",
    "\n",
    "import torch\n",
    "import torch.nn as nn\n",
    "import torch.nn.functional as F\n",
    "from torch.optim import lr_scheduler\n",
    "from torch.autograd import Variable\n",
    "from torch.utils.data import DataLoader, Dataset\n",
    "from torchvision import transforms\n",
    "from torchvision.utils import make_grid\n",
    "\n",
    "import math\n",
    "import random\n",
    "import os\n",
    "\n",
    "from PIL import Image, ImageOps, ImageEnhance\n",
    "import numbers\n",
    "\n",
    "import matplotlib.pyplot as plt\n",
    "%matplotlib inline"
   ]
  },
  {
   "cell_type": "code",
   "execution_count": 9,
   "metadata": {},
   "outputs": [
    {
     "name": "stdout",
     "output_type": "stream",
     "text": [
      "# of training samples: 42000\n",
      "# of training pixels: 784\n",
      "# of training classes: 10\n"
     ]
    }
   ],
   "source": [
    "train_path = os.path.join(os.getcwd(),'all/train.csv')\n",
    "train_df   = pd.read_csv(train_path)\n",
    "\n",
    "n_train    = len(train_df)\n",
    "n_pixels   = len(train_df.columns) - 1\n",
    "n_class    = len(set(train_df['label']))\n",
    "\n",
    "print('# of training samples: {0}'.format(n_train))\n",
    "print('# of training pixels: {0}'.format(n_pixels))\n",
    "print('# of training classes: {0}'.format(n_class))"
   ]
  },
  {
   "cell_type": "code",
   "execution_count": 10,
   "metadata": {},
   "outputs": [
    {
     "name": "stdout",
     "output_type": "stream",
     "text": [
      "# of test samples: 28000\n",
      "# of test pixels: 28000\n"
     ]
    }
   ],
   "source": [
    "test_path = os.path.join(os.getcwd(),'all/test.csv')\n",
    "test_df   = pd.read_csv(test_path)\n",
    "\n",
    "n_test    = len(test_df)\n",
    "n_pixels  = len(test_df.columns)\n",
    "\n",
    "print('# of test samples: {0}'.format(n_test))\n",
    "print('# of test pixels: {0}'.format(n_test))"
   ]
  },
  {
   "cell_type": "code",
   "execution_count": 12,
   "metadata": {},
   "outputs": [
    {
     "name": "stdout",
     "output_type": "stream",
     "text": [
      "5, 0, 1, 1, 8, 2, 4, 0\n"
     ]
    },
    {
     "data": {
      "image/png": "[encoded data removed]",
      "text/plain": [
       "<matplotlib.figure.Figure at 0x11c782940>"
      ]
     },
     "metadata": {
      "needs_background": "light"
     },
     "output_type": "display_data"
    }
   ],
   "source": [
    "random_sel = np.random.randint(n_train, size=8)\n",
    "\n",
    "grid       = make_grid(torch.Tensor((train_df.iloc[random_sel, 1:].as_matrix()/255.)\\\n",
    "                                   .reshape((-1,28,28))).unsqueeze(1), nrow=8)\n",
    "plt.rcParams['figure.figsize'] = (16,2)\n",
    "plt.axis('off')\n",
    "print(*list(train_df.iloc[random_sel,0].values), sep=', ')"
   ]
  },
  {
   "cell_type": "code",
   "execution_count": null,
   "metadata": {},
   "outputs": [],
   "source": []
  }
 ],
 "metadata": {
  "kernelspec": {
   "display_name": "Python [conda env:anaconda]",
   "language": "python",
   "name": "conda-env-anaconda-py"
  },
  "language_info": {
   "codemirror_mode": {
    "name": "ipython",
    "version": 3
   },
   "file_extension": ".py",
   "mimetype": "text/x-python",
   "name": "python",
   "nbconvert_exporter": "python",
   "pygments_lexer": "ipython3",
   "version": "3.5.6"
  }
 },
 "nbformat": 4,
 "nbformat_minor": 2
}
