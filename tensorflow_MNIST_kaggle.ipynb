{
 "cells": [
  {
   "cell_type": "code",
   "execution_count": 93,
   "metadata": {},
   "outputs": [],
   "source": [
    "import tensorflow as tf\n",
    "import pandas as pd\n",
    "import os"
   ]
  },
  {
   "cell_type": "code",
   "execution_count": 94,
   "metadata": {},
   "outputs": [],
   "source": [
    "train_path = os.path.join(os.getcwd(),'all/train.csv')\n",
    "test_path  = os.path.join(os.getcwd(),'all/test.csv')\n",
    "train = pd.read_csv(train_path)\n",
    "test  = pd.read_csv(test_path)"
   ]
  },
  {
   "cell_type": "code",
   "execution_count": 95,
   "metadata": {},
   "outputs": [
    {
     "name": "stdout",
     "output_type": "stream",
     "text": [
      "(42000, 785)\n",
      "(28000, 784)\n"
     ]
    }
   ],
   "source": [
    "print(train.shape)\n",
    "print(test.shape)"
   ]
  },
  {
   "cell_type": "code",
   "execution_count": 96,
   "metadata": {},
   "outputs": [],
   "source": [
    "x_train = train.loc[:,'pixel0':].values.reshape(train.shape[0],1,28,28)\\\n",
    "                    .astype('float32')\n",
    "y_train = train.loc[:,'label']\n",
    "x_test  = test.values.reshape(test.shape[0],1,28,28).astype('float32')"
   ]
  },
  {
   "cell_type": "code",
   "execution_count": 97,
   "metadata": {},
   "outputs": [
    {
     "data": {
      "text/plain": [
       "(42000, 1, 28, 28)"
      ]
     },
     "execution_count": 97,
     "metadata": {},
     "output_type": "execute_result"
    }
   ],
   "source": [
    "x_train.shape"
   ]
  },
  {
   "cell_type": "code",
   "execution_count": 98,
   "metadata": {},
   "outputs": [
    {
     "name": "stdout",
     "output_type": "stream",
     "text": [
      "0\n"
     ]
    },
    {
     "data": {
      "text/plain": [
       "<matplotlib.image.AxesImage at 0x15906d0b8>"
      ]
     },
     "execution_count": 98,
     "metadata": {},
     "output_type": "execute_result"
    },
    {
     "data": {
      "image/png": "[encoded data removed]",
      "text/plain": [
       "<Figure size 432x288 with 1 Axes>"
      ]
     },
     "metadata": {
      "needs_background": "light"
     },
     "output_type": "display_data"
    }
   ],
   "source": [
    "import matplotlib.pyplot as plt\n",
    "%matplotlib inline\n",
    "image_index = 69\n",
    "print(y_train[image_index])\n",
    "plt.imshow(x_train[image_index,0], cmap='Greys')"
   ]
  },
  {
   "cell_type": "code",
   "execution_count": 99,
   "metadata": {},
   "outputs": [
    {
     "name": "stdout",
     "output_type": "stream",
     "text": [
      "x_train shape: (42000, 28, 28, 1)\n",
      "Number of images in x_train 42000\n",
      "Number of images in x_test 28000\n"
     ]
    }
   ],
   "source": [
    "x_train = x_train.reshape(x_train.shape[0], 28, 28, 1)\n",
    "x_test = x_test.reshape(x_test.shape[0], 28, 28, 1)\n",
    "input_shape = (28, 28, 1)\n",
    "x_train = x_train.astype('float32')\n",
    "x_test = x_test.astype('float32')\n",
    "x_train /= 255\n",
    "x_test /= 255\n",
    "print('x_train shape:', x_train.shape)\n",
    "print('Number of images in x_train', x_train.shape[0])\n",
    "print('Number of images in x_test', x_test.shape[0])"
   ]
  },
  {
   "cell_type": "code",
   "execution_count": 100,
   "metadata": {},
   "outputs": [],
   "source": [
    "from keras.models import Sequential\n",
    "from keras.layers import Dense, Conv2D, Dropout, Flatten, MaxPooling2D"
   ]
  },
  {
   "cell_type": "code",
   "execution_count": 119,
   "metadata": {},
   "outputs": [],
   "source": [
    "model = Sequential()\n",
    "\n",
    "model.add(Conv2D(28, kernel_size=(3,3), input_shape=input_shape, activation=tf.nn.relu))\n",
    "model.add(MaxPooling2D(pool_size=(2,2)))\n",
    "\n",
    "model.add(Conv2D(28, kernel_size=(5,5), input_shape=input_shape, activation=tf.nn.relu))\n",
    "model.add(MaxPooling2D(pool_size=(2,2)))\n",
    "\n",
    "model.add(Flatten())\n",
    "model.add(Dense(128, activation=tf.nn.relu))\n",
    "model.add(Dropout(0.2))\n",
    "model.add(Dense(10, activation=tf.nn.softmax))"
   ]
  },
  {
   "cell_type": "code",
   "execution_count": 120,
   "metadata": {},
   "outputs": [
    {
     "name": "stdout",
     "output_type": "stream",
     "text": [
      "Epoch 1/20\n",
      "42000/42000 [==============================] - 27s 638us/step - loss: 0.2088 - acc: 0.9350\n",
      "Epoch 2/20\n",
      "42000/42000 [==============================] - 27s 635us/step - loss: 0.0648 - acc: 0.9800\n",
      "Epoch 3/20\n",
      "42000/42000 [==============================] - 27s 639us/step - loss: 0.0437 - acc: 0.9862\n",
      "Epoch 4/20\n",
      "42000/42000 [==============================] - 27s 640us/step - loss: 0.0335 - acc: 0.9899\n",
      "Epoch 5/20\n",
      "42000/42000 [==============================] - 27s 651us/step - loss: 0.0268 - acc: 0.9918\n",
      "Epoch 6/20\n",
      "42000/42000 [==============================] - 28s 662us/step - loss: 0.0222 - acc: 0.9930\n",
      "Epoch 7/20\n",
      "42000/42000 [==============================] - 26s 627us/step - loss: 0.0196 - acc: 0.9932\n",
      "Epoch 8/20\n",
      "42000/42000 [==============================] - 29s 691us/step - loss: 0.0148 - acc: 0.9952\n",
      "Epoch 9/20\n",
      "42000/42000 [==============================] - 26s 612us/step - loss: 0.0144 - acc: 0.9954\n",
      "Epoch 10/20\n",
      "42000/42000 [==============================] - 28s 668us/step - loss: 0.0109 - acc: 0.9961\n",
      "Epoch 11/20\n",
      "42000/42000 [==============================] - 28s 665us/step - loss: 0.0109 - acc: 0.9963\n",
      "Epoch 12/20\n",
      "42000/42000 [==============================] - 27s 655us/step - loss: 0.0094 - acc: 0.9970\n",
      "Epoch 13/20\n",
      "42000/42000 [==============================] - 28s 663us/step - loss: 0.0107 - acc: 0.9961\n",
      "Epoch 14/20\n",
      "42000/42000 [==============================] - 24s 576us/step - loss: 0.0072 - acc: 0.9976\n",
      "Epoch 15/20\n",
      "42000/42000 [==============================] - 27s 646us/step - loss: 0.0086 - acc: 0.9972\n",
      "Epoch 16/20\n",
      "42000/42000 [==============================] - 28s 657us/step - loss: 0.0077 - acc: 0.9975\n",
      "Epoch 17/20\n",
      "42000/42000 [==============================] - 28s 665us/step - loss: 0.0065 - acc: 0.9979\n",
      "Epoch 18/20\n",
      "42000/42000 [==============================] - 26s 617us/step - loss: 0.0063 - acc: 0.9980\n",
      "Epoch 19/20\n",
      "42000/42000 [==============================] - 27s 639us/step - loss: 0.0073 - acc: 0.9975\n",
      "Epoch 20/20\n",
      "42000/42000 [==============================] - 28s 675us/step - loss: 0.0065 - acc: 0.9980\n"
     ]
    },
    {
     "data": {
      "text/plain": [
       "<keras.callbacks.History at 0x1bbf0eeb8>"
      ]
     },
     "execution_count": 120,
     "metadata": {},
     "output_type": "execute_result"
    }
   ],
   "source": [
    "model.compile(optimizer='adam',\n",
    "             loss='sparse_categorical_crossentropy',\n",
    "             metrics=['accuracy'])\n",
    "model.fit(x=x_train,y=y_train, epochs=20)"
   ]
  },
  {
   "cell_type": "code",
   "execution_count": 121,
   "metadata": {},
   "outputs": [],
   "source": [
    "import numpy as np\n",
    "test_pred = model.predict(x_test)\n",
    "test_labels = np.argmax(test_pred, axis=1)"
   ]
  },
  {
   "cell_type": "code",
   "execution_count": 122,
   "metadata": {},
   "outputs": [
    {
     "name": "stdout",
     "output_type": "stream",
     "text": [
      "Label Prediction: 5\n"
     ]
    },
    {
     "data": {
      "image/png": "[encoded data removed]",
      "text/plain": [
       "<Figure size 144x144 with 1 Axes>"
      ]
     },
     "metadata": {
      "needs_background": "light"
     },
     "output_type": "display_data"
    }
   ],
   "source": [
    "k = 10 # Try different image indices k\n",
    "print(\"Label Prediction: %i\"%test_labels[k])\n",
    "fig = plt.figure(figsize=(2,2)); plt.axis('off')\n",
    "plt.imshow(x_test[k,:,:,0]); plt.show()"
   ]
  },
  {
   "cell_type": "code",
   "execution_count": 123,
   "metadata": {},
   "outputs": [
    {
     "data": {
      "text/html": [
       "<div>\n",
       "<style scoped>\n",
       "    .dataframe tbody tr th:only-of-type {\n",
       "        vertical-align: middle;\n",
       "    }\n",
       "\n",
       "    .dataframe tbody tr th {\n",
       "        vertical-align: top;\n",
       "    }\n",
       "\n",
       "    .dataframe thead th {\n",
       "        text-align: right;\n",
       "    }\n",
       "</style>\n",
       "<table border=\"1\" class=\"dataframe\">\n",
       "  <thead>\n",
       "    <tr style=\"text-align: right;\">\n",
       "      <th></th>\n",
       "      <th>ImageId</th>\n",
       "      <th>Label</th>\n",
       "    </tr>\n",
       "  </thead>\n",
       "  <tbody>\n",
       "    <tr>\n",
       "      <th>27995</th>\n",
       "      <td>27996</td>\n",
       "      <td>9</td>\n",
       "    </tr>\n",
       "    <tr>\n",
       "      <th>27996</th>\n",
       "      <td>27997</td>\n",
       "      <td>7</td>\n",
       "    </tr>\n",
       "    <tr>\n",
       "      <th>27997</th>\n",
       "      <td>27998</td>\n",
       "      <td>3</td>\n",
       "    </tr>\n",
       "    <tr>\n",
       "      <th>27998</th>\n",
       "      <td>27999</td>\n",
       "      <td>9</td>\n",
       "    </tr>\n",
       "    <tr>\n",
       "      <th>27999</th>\n",
       "      <td>28000</td>\n",
       "      <td>2</td>\n",
       "    </tr>\n",
       "  </tbody>\n",
       "</table>\n",
       "</div>"
      ],
      "text/plain": [
       "       ImageId  Label\n",
       "27995    27996      9\n",
       "27996    27997      7\n",
       "27997    27998      3\n",
       "27998    27999      9\n",
       "27999    28000      2"
      ]
     },
     "execution_count": 123,
     "metadata": {},
     "output_type": "execute_result"
    }
   ],
   "source": [
    "submission = pd.DataFrame(data={'ImageId':(np.arange(test_labels.shape[0])+1), 'Label':test_labels})\n",
    "submission.to_csv('submission_3.csv', index=False)\n",
    "submission.tail()"
   ]
  },
  {
   "cell_type": "code",
   "execution_count": null,
   "metadata": {},
   "outputs": [],
   "source": []
  }
 ],
 "metadata": {
  "kernelspec": {
   "display_name": "Python [conda env:3point6]",
   "language": "python",
   "name": "conda-env-3point6-py"
  },
  "language_info": {
   "codemirror_mode": {
    "name": "ipython",
    "version": 3
   },
   "file_extension": ".py",
   "mimetype": "text/x-python",
   "name": "python",
   "nbconvert_exporter": "python",
   "pygments_lexer": "ipython3",
   "version": "3.6.7"
  }
 },
 "nbformat": 4,
 "nbformat_minor": 2
}
